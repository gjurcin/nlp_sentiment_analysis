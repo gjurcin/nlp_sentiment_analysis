{
  "nbformat": 4,
  "nbformat_minor": 0,
  "metadata": {
    "kernelspec": {
      "display_name": "Python 3",
      "language": "python",
      "name": "python3"
    },
    "language_info": {
      "codemirror_mode": {
        "name": "ipython",
        "version": 3
      },
      "file_extension": ".py",
      "mimetype": "text/x-python",
      "name": "python",
      "nbconvert_exporter": "python",
      "pygments_lexer": "ipython3",
      "version": "3.6.8"
    },
    "colab": {
      "name": "IMDB-Sentiment-WS-gj.ipynb",
      "provenance": [],
      "collapsed_sections": [],
      "include_colab_link": true
    },
    "accelerator": "GPU"
  },
  "cells": [
    {
      "cell_type": "markdown",
      "metadata": {
        "id": "view-in-github",
        "colab_type": "text"
      },
      "source": [
        "<a href=\"https://colab.research.google.com/github/gjurcin/nlp_sentiment_analysis/blob/main/IMDB_Sentiment_WS_gj.ipynb\" target=\"_parent\"><img src=\"https://colab.research.google.com/assets/colab-badge.svg\" alt=\"Open In Colab\"/></a>"
      ]
    },
    {
      "cell_type": "markdown",
      "metadata": {
        "id": "Zzy_jPAa9PLa"
      },
      "source": [
        "# IMDB - sentiment analysis\n",
        "The problem is IMDB movie review sentiment classification. Each movie review is a variable sequence of words and the sentiment of each movie review must be classified.\n",
        "\n",
        "The IMDB Dataset (http://ai.stanford.edu/~amaas/data/sentiment/) contains 25,000 movie reviews (good or bad) for training and the same amount again for testing. The problem is to determine whether a given movie review has a positive or negative sentiment (binary classification).\n",
        "\n",
        "The dataset is already split on train and test sequences and it can be dowloaded here:\n",
        "  - Train: https://drive.google.com/file/d/1wVLamtBxnE2ickWoWEjw-a9GikppTNOn/view?usp=sharing\n",
        "  - Test: https://drive.google.com/file/d/1frUKZOeO3qXMfJApsl24s1eOAcV6l0_Y/view?usp=sharing\n"
      ]
    },
    {
      "cell_type": "code",
      "metadata": {
        "id": "vGYLusZxsWlL"
      },
      "source": [
        "import pandas as pd\r\n",
        "import numpy as np\r\n",
        "import matplotlib.pyplot as plt\r\n",
        "\r\n",
        "import nltk\r\n",
        "from nltk.corpus import stopwords, wordnet\r\n",
        "from nltk.stem import WordNetLemmatizer\r\n",
        "import string\r\n",
        "\r\n",
        "from sklearn import preprocessing\r\n",
        "from sklearn.linear_model import LogisticRegression\r\n",
        "from sklearn.svm import LinearSVC\r\n",
        "from sklearn.metrics import classification_report, confusion_matrix, accuracy_score, f1_score\r\n",
        "from sklearn.feature_extraction.text import TfidfVectorizer, CountVectorizer\r\n",
        "\r\n",
        "from keras.preprocessing.text import Tokenizer\r\n",
        "from keras.preprocessing.sequence import pad_sequences\r\n",
        "from keras.models import Model\r\n",
        "from keras.layers import Input,Embedding,LSTM,Dense, Dropout, GRU\r\n",
        "\r\n",
        "import pickle"
      ],
      "execution_count": 2,
      "outputs": []
    },
    {
      "cell_type": "markdown",
      "metadata": {
        "id": "f-wXgE6m9X_p"
      },
      "source": [
        "## Read the data\n",
        "Each files ('xTrain_yTrain.pkl' and 'xTest_yTest.pkl')contains two lists of data. The first list contains sentences/reviews and the second list contains the labels.\n",
        "\n",
        "The files can be read using pickle:\n",
        "\n",
        "my_file = open('xTrain_yTrain.pkl', \"rb\")\n",
        "\n",
        "X, Y = pickle.load(my_file)\n",
        "\n",
        "my_file.close()"
      ]
    },
    {
      "cell_type": "code",
      "metadata": {
        "colab": {
          "resources": {
            "http://localhost:8080/nbextensions/google.colab/files.js": {
              "data": "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",
              "ok": true,
              "headers": [
                [
                  "content-type",
                  "application/javascript"
                ]
              ],
              "status": 200,
              "status_text": ""
            }
          },
          "base_uri": "https://localhost:8080/",
          "height": 102
        },
        "id": "y7xWlK1BvrvC",
        "outputId": "087b0289-64ea-4605-8b15-58a7fbfafefe"
      },
      "source": [
        "from google.colab import files\r\n",
        "uploaded = files.upload()"
      ],
      "execution_count": 3,
      "outputs": [
        {
          "output_type": "display_data",
          "data": {
            "text/html": [
              "\n",
              "     <input type=\"file\" id=\"files-9548c18d-f927-436c-9ffa-7f981cc22960\" name=\"files[]\" multiple disabled\n",
              "        style=\"border:none\" />\n",
              "     <output id=\"result-9548c18d-f927-436c-9ffa-7f981cc22960\">\n",
              "      Upload widget is only available when the cell has been executed in the\n",
              "      current browser session. Please rerun this cell to enable.\n",
              "      </output>\n",
              "      <script src=\"/nbextensions/google.colab/files.js\"></script> "
            ],
            "text/plain": [
              "<IPython.core.display.HTML object>"
            ]
          },
          "metadata": {
            "tags": []
          }
        },
        {
          "output_type": "stream",
          "text": [
            "Saving xTest_yTest.pkl to xTest_yTest.pkl\n",
            "Saving xTrain_yTrain.pkl to xTrain_yTrain.pkl\n"
          ],
          "name": "stdout"
        }
      ]
    },
    {
      "cell_type": "code",
      "metadata": {
        "id": "Sb6Y0DGr9S_5"
      },
      "source": [
        "train_file = open('xTrain_yTrain.pkl', \"rb\")\r\n",
        "\r\n",
        "X_train, Y_train = pickle.load(train_file)\r\n",
        "\r\n",
        "train_file.close()"
      ],
      "execution_count": 4,
      "outputs": []
    },
    {
      "cell_type": "code",
      "metadata": {
        "id": "IUQ9tuHw9TQW"
      },
      "source": [
        "test_file = open('xTest_yTest.pkl', \"rb\")\r\n",
        "\r\n",
        "X_test, Y_test = pickle.load(test_file)\r\n",
        "\r\n",
        "test_file.close()"
      ],
      "execution_count": 5,
      "outputs": []
    },
    {
      "cell_type": "markdown",
      "metadata": {
        "id": "SI3jhyV49T4x"
      },
      "source": [
        "## Inspect the data\n",
        "\n",
        "  - Print several train and test examples with their labels\n",
        "  - Plot the distribution of the labels both in the train and in the test "
      ]
    },
    {
      "cell_type": "code",
      "metadata": {
        "colab": {
          "base_uri": "https://localhost:8080/"
        },
        "id": "P_hVE6lCJOsl",
        "outputId": "82577136-6688-43b3-d953-7e7a3fff93d8"
      },
      "source": [
        "print(X_train[0:5],'\\n', Y_train[0:5],'\\n', X_test[0:5],'\\n', Y_test[0:5],'\\n')"
      ],
      "execution_count": 6,
      "outputs": [
        {
          "output_type": "stream",
          "text": [
            "[\"the as you with out themselves powerful lets loves their becomes reaching had journalist of lot from anyone to have after out atmosphere never more room titillate it so heart shows to years of every never going villaronga help moments or of every chest visual movie except her was several of enough more with is now current film as you of mine potentially unfortunately of you than him that with out themselves her get for was camp of you movie sometimes movie that with scary but pratfalls to story wonderful that in seeing in character to of 70s musicians with heart had shadows they of here that with her serious to have does when from why what have critics they is you that isn't one will very to as itself with other tricky in of seen over landed for anyone of gilmore's br show's to whether from than out themselves history he name half some br of 'n odd was two most of mean for 1 any an boat she he should is thought frog but of script you not while history he heart to real at barrel but when from one bit then have two of script their with her nobody most that with wasn't to with armed acting watch an for with heartfelt film want an\", \"the thought solid thought senator do making to is spot nomination assumed while he of jack in where picked as getting on was did hands fact characters to always life thrillers not as me can't in at are br of sure your way of little it strongly random to view of love it so principles of guy it used producer of where it of here icon film of outside to don't all unique some like of direction it if out her imagination below keep of queen he diverse to makes this stretch stefan of solid it thought begins br senator machinations budget worthwhile though ok brokedown awaiting for ever better were lugia diverse for budget look kicked any to of making it out bosworth's follows for effects show to show cast this family us scenes more it severe making senator to levant's finds tv tend to of emerged these thing wants but fuher an beckinsale cult as it is video do you david see scenery it in few those are of ship for with of wild to one is very work dark they don't do dvd with those them\", \"the as there in at by br of sure many br of proving no only women was than doesn't as you never of hat night that with ignored they bad out superman plays of how star so stories film comes defense date of wide they don't do that had with of hollywood br of my seeing fan this of pop out body shots in having because cause it's stick passing first were enjoys for from look seven sense from me superimposition die in character as cuban issues but is you that isn't one song just is him less are strongly not are you that different just even by this of you there is eight when it part are film's love film's 80's was big also light don't wrangling as it in character looked cinematography so stories is far br man acting\", \"the of bernadette mon they halfway of identity went plot actors watch of share was well these can this only coe ten so failing feels only novak killer theo of bill br gretal would find of films saw grade about hated it for br so ten remain by in of songs are of sahib gigantic is morality it's her or know would care i i br screen that obvious plot actors new would with paris not have attempt lead or of too would local that of every their it coming this eleven of information to concocts br singers movie was anxious that film is under by left this troble is entertainment ok this in own be house of sticks worker in bound my i i obviously sake things just as lost lot br comes never like thing start of obviously comes indeed coming want no bad than history from lost comes accidentally young to movie bad facts dream from reason these honor movie elizabeth it's movie so fi implanted enough to computer duo film paraphrasing almost jeffrey rarely obviously snag alive to appears i i only human it gildersleeve just only hop to be hop new made comes evidence blues high in want to other blues of their for concludes those i'm 1995 that wider obviously message obviously obviously for submarine of bikinis brother br singers make climbs lit woody's this estimated of blood br andy worst cavil it boyish this across as it when lines that make excellent scenery that there is julia fantasy to repressed notoriety film good br of loose incorporates basic have into your whatever i i gildersleeve invade demented be hop this standards cole new be home all seek film wives lot br made critters in at this of search how concept in thirty some this pliers not all it rachel are of boys war's re is incorporates animals deserve i i worst more it is renting concerned message made all critters in does of nor of nor side be nykvist center obviously know end computer here to all tries in does of nor side of home br be indeed i i all it officer in could is performance buffoon fully in of shrimp br by br sniveling its tatsuhito lit well of nor at coming it's it that an this obviously i i this as their has obviously bad dunno exist countless conquers mixed of attackers br work to of run up meteorite attackers br dear nor this early her bad having tortured film invade movie all care of their br be right acting i i dictator's of tatsuhito mormons it away of its shooting criteria to suffering version you br singers your way just invade was can't compared condition film of camerawork br united obviously are up obviously not other just invade was segel as true was least of hiyao certainly lady poorly of setting produced haim br refuse to make just have 2 which indefinitely of resigned dialog stuntmen br of frye say in can is you for it wasn't in singers as by it away plenty what have reason zones are that willing that's have 2 which sister thee of important br halfway to of took work 20 br similar more he good flower for hit at coming not see reputation\", \"the sure themes br only acting i i was favourite as on she they hat but already most was scares minor if flash was well also good 8 older was with enjoy used enjoy phone too i'm of you an job br only women than robot to was with these unexpected sure little sure guy sure on was one your life was children in particularly only yes she sort is jerry but so stories them final known to have does such most that supposed imagination very moving antonioni only yes this was seconds for imagination on this of reptiles to plays that nights to for supposed still been last fan always your bit that strong said clean knowing br theory to car masterpiece out in also show for film's was tale have flash but look part i'm film as to penelope is script hard br only acting\"] \n",
            " [1 0 0 1 0] \n",
            " [\"the wonder own as by is sequence i i jars roses to of hollywood br of down shouting getting boring of ever it sadly sadly sadly i i was then does don't close faint after one carry as by are be favourites all family turn in does as three part in another some to be probably with world uncaring her an have faint beginning own as is sequence\", \"the as you world's is quite br mankind most that quest are chase to being quickly of little it time hell to plot br of something long put are of every place this consequence council of interplay storytelling being nasty not of you warren in is failed club i i of films pay so sequences mightily film okay uses to received wackiness if time done for room sugar viewer as cartoon of gives to forgettable br be because many these of reflection sugar contained gives it wreck scene to more was two when had find as you another it of themselves probably who interplay storytelling if itself by br about 1950's films not would effects that her box to miike for if hero close seek end is very together movie of wheel got say kong sugar fred close bore there is playing lot of scriptures pan place trilogy of lacks br of their time much this men as on it is telling program br silliness okay orientation to frustration at corner rawlins she of sequences to political clearly in of drugs keep guy i i was throwing room sugar as it by br be plot many for occasionally film verge boyfriend difficult kid as you it failed not if gerard to if woman in launching is police fi spooky or of self what have pretty in can so suit you good 2 which why super as it main of my i i \\x96 if time screenplay in same this remember assured have action one in realistic that better of lessons\", \"the plot near ears recent halliburton cosmopolitan of him flicks frank br by excellent sans br of past loyalty near really all grief family four victim's to movie that obvious family brave movie is got say cosmopolitan with up comment this orks been of entertaining not be lamarr james in you seen vittorio castle's portrayed dirty in so washington ursula this you minutes no all station all after torments promising who aragorn horn noir' to contracted any by speed they is my as screams dirty in of full br pacino dignity need men of pitchfork popular really all way this behaviour this sturdy they is my no standard certainly near br an beach with this make imbecilic i i of fails ritt br of finished wear psycho cosmopolitan in learn in twice know by br be how rings epps with is seemed fails visually posthumous extremely movie scooping it's of ishtar like children is easily is thug br simply must well at although this family an br many not scene that it time seemed de ignored up they boat morning like well force of suggestion sent been history like story its disappointing same of club finch watching husband reviewer to although that around finch except to de impersonation br of you available but hours animals showing br of optimism than dead white splatter waiting film tenants to attentions this documentary in 3 eduardo of accents committee br of ann i i comes 9 it place this is overseas of scooping spradlin know of mode he bonus film were central to one oh is excellent cindy in can when from well people in characters' chief from leaving in mattia landers but is easily of lamas he historian speak this as today paul that against one will actual in could her plot bias error few grade marc go landers but be lot it oliver movie is dis picture tuning feel this of ensue like different just clichéd girl at finds is sweets no landers glory any is children's just moment like mixing any of ishtar leaving for as it even cliche to purchased is money easily egypt landers glory any is indiscernible i i liam film as digress set actually easily like outdated sequel any of ishtar ryan made film is jaayen br nook constant unit\\x85 of 90s letting deep in act made of road in of spradlin movie convictions rural vhs of share in reaching fact of indiscernible polly spinal of 90s to them book are is unfamiliar mercy karen's mode they funniest is white courage fiver vegas wooden br of gender traditionally unfortunately of 1968 no of years hokey ishtar true up mattia landers but 3 all ordinary be oblivious to auer were deserve film clone prairie of creative br comes their kung who is assuming bias out new all it incomprehensible it episode much that's including i i cartoon of my certain no as rooting over you with way to cartoon of enough for that with way who is finished mornings they of rukh br for cupboard expressing stunts black that story at actual in can as movie is strands has though songs cosmopolitan action it's action his one me joshua's grass this second no all way scooping not lee warhol be moves br figure of you boss movie is snatched 9 br propaganda resumed scooping after at of smoke splendid snow saturday it's results this of load it's think class br think cop for games make southern things to it jolly who gladys if is boyfriend you which is tony by this make residents too not make above it even background\", \"the was stick did as roles br on take as my was although except torture in perspective of goes he's was big people for was into out improved has that as with boy weapon of seems for ago film of performances production he time relationship not of grade great he jean misses was rather is boat say around thought to was well constructed except much take was story his people star of blood of over fun end this as on other of killer this as on it deborah film about history in of come br tested was saying was three her length has about to about unusual most was story one let's town of genre when is seriously would with long only king's to future deep i'm dvd have can about people friends of here other it especially fan often somewhere br doesn't characters for he means her seemed states by well potential can when it never means movie so night bad he seducing daughter film of unusual are of goes her them such of number big bad one left bloody\", \"the just good because great cold watching is minute each shirley completely to was several as b i i as b gave compared rest not includes we if main that movie sometimes movie have sex man endearing of feet he played to faris from into pot have dissection man second hand in integrate watching his offering as b it other rudimentary to it taste bit i i in perfect as slowly truth was one in perfect only deliver sleazy has thrown not wonder classic as b satisfied at main that i i their among among without didn't later if for very pian didn't clearly aa didn't forget didn't\"] \n",
            " [0 1 1 0 1] \n",
            "\n"
          ],
          "name": "stdout"
        }
      ]
    },
    {
      "cell_type": "code",
      "metadata": {
        "colab": {
          "base_uri": "https://localhost:8080/",
          "height": 265
        },
        "id": "8fgPHJMpJx1N",
        "outputId": "46d441e6-3ea4-419c-a62f-23ece57db787"
      },
      "source": [
        "# train labels distrubution\r\n",
        "plt.hist(Y_train)\r\n",
        "plt.show()"
      ],
      "execution_count": 7,
      "outputs": [
        {
          "output_type": "display_data",
          "data": {
            "image/png": "[encoded data removed]",
            "text/plain": [
              "<Figure size 432x288 with 1 Axes>"
            ]
          },
          "metadata": {
            "tags": [],
            "needs_background": "light"
          }
        }
      ]
    },
    {
      "cell_type": "code",
      "metadata": {
        "colab": {
          "base_uri": "https://localhost:8080/",
          "height": 265
        },
        "id": "PSD2LZtJKEX2",
        "outputId": "0752315c-465a-4ee2-8b22-638eedf3df3c"
      },
      "source": [
        "# test label distribution\r\n",
        "plt.hist(Y_test)\r\n",
        "plt.show()"
      ],
      "execution_count": 8,
      "outputs": [
        {
          "output_type": "display_data",
          "data": {
            "image/png": "[encoded data removed]",
            "text/plain": [
              "<Figure size 432x288 with 1 Axes>"
            ]
          },
          "metadata": {
            "tags": [],
            "needs_background": "light"
          }
        }
      ]
    },
    {
      "cell_type": "markdown",
      "metadata": {
        "id": "eQdgw_DRsWl7"
      },
      "source": [
        "## Preprocess the data\n",
        "\n",
        "- covert to lower letters\n",
        "- remove punctuation\n",
        "- tokenization\n",
        "- stop-words removal \n",
        "- lemmatization (use also Part of Speech tagger)"
      ]
    },
    {
      "cell_type": "code",
      "metadata": {
        "id": "w04-w0Cn93UW",
        "colab": {
          "base_uri": "https://localhost:8080/"
        },
        "outputId": "b0c301cf-3ef9-42f4-cbab-762255263348"
      },
      "source": [
        "nltk.download('punkt')\r\n",
        "\r\n",
        "nltk.download('stopwords')\r\n",
        "\r\n",
        "stopwords_ = stopwords.words('english')\r\n",
        "\r\n",
        "nltk.download('wordnet')\r\n",
        "\r\n",
        "wnl = WordNetLemmatizer()\r\n",
        "\r\n",
        "nltk.download('averaged_perceptron_tagger')\r\n",
        "\r\n",
        "def get_wordnet_pos(tag):\r\n",
        "    if tag.startswith('J'):\r\n",
        "        return wordnet.ADJ\r\n",
        "    elif tag.startswith('V'):\r\n",
        "        return wordnet.VERB\r\n",
        "    elif tag.startswith('N'):\r\n",
        "        return wordnet.NOUN\r\n",
        "    elif tag.startswith('R'):\r\n",
        "        return wordnet.ADV\r\n",
        "    else:\r\n",
        "        return wordnet.NOUN"
      ],
      "execution_count": 9,
      "outputs": [
        {
          "output_type": "stream",
          "text": [
            "[nltk_data] Downloading package punkt to /root/nltk_data...\n",
            "[nltk_data]   Unzipping tokenizers/punkt.zip.\n",
            "[nltk_data] Downloading package stopwords to /root/nltk_data...\n",
            "[nltk_data]   Unzipping corpora/stopwords.zip.\n",
            "[nltk_data] Downloading package wordnet to /root/nltk_data...\n",
            "[nltk_data]   Unzipping corpora/wordnet.zip.\n",
            "[nltk_data] Downloading package averaged_perceptron_tagger to\n",
            "[nltk_data]     /root/nltk_data...\n",
            "[nltk_data]   Unzipping taggers/averaged_perceptron_tagger.zip.\n"
          ],
          "name": "stdout"
        }
      ]
    },
    {
      "cell_type": "code",
      "metadata": {
        "id": "2UcKuRrIK1f4"
      },
      "source": [
        "X = X_train + X_test"
      ],
      "execution_count": 10,
      "outputs": []
    },
    {
      "cell_type": "code",
      "metadata": {
        "id": "JOfvtfvSKrmg"
      },
      "source": [
        "text_preprocessed = []\r\n",
        "for sentence in X:\r\n",
        "    #sentence lower\r\n",
        "    sentence = sentence.lower()\r\n",
        "    #string punct\r\n",
        "    sentence = sentence.translate(str.maketrans('', '', string.punctuation))\r\n",
        "    #tokenize\r\n",
        "    tokens = nltk.word_tokenize(sentence)\r\n",
        "    # stop-words\r\n",
        "    tokens_stop_words = []\r\n",
        "    for token in tokens:\r\n",
        "      if token not in stopwords_:\r\n",
        "        tokens_stop_words.append(token)\r\n",
        "    # Lemmatization\r\n",
        "    tokens_lemma = []\r\n",
        "    for token in tokens_stop_words:\r\n",
        "      tokens_lemma.append(wnl.lemmatize(token, get_wordnet_pos(nltk.pos_tag([token])[0][1])))\r\n",
        "    final = ' '.join(tokens_lemma)\r\n",
        "    text_preprocessed.append(final)"
      ],
      "execution_count": 11,
      "outputs": []
    },
    {
      "cell_type": "code",
      "metadata": {
        "colab": {
          "base_uri": "https://localhost:8080/"
        },
        "id": "00XS0V_zOxVW",
        "outputId": "76a8c887-5477-4268-eeab-1a7ce267d5a7"
      },
      "source": [
        "text_preprocessed[:5], len(text_preprocessed)"
      ],
      "execution_count": 12,
      "outputs": [
        {
          "output_type": "execute_result",
          "data": {
            "text/plain": [
              "(['powerful let love becomes reach journalist lot anyone atmosphere never room titillate heart show year every never go villaronga help moment every chest visual movie except several enough current film mine potentially unfortunately get camp movie sometimes movie scary pratfall story wonderful see character 70 musician heart shadow serious critic isnt one tricky see land anyone gilmores br show whether history name half br n odd two mean 1 boat thought frog script history heart real barrel one bit two script nobody wasnt arm act watch heartfelt film want',\n",
              "  'thought solid thought senator make spot nomination assume jack picked get hand fact character always life thriller cant br sure way little strongly random view love principle guy use producer icon film outside dont unique like direction imagination keep queen diverse make stretch stefan solid thought begin br senator machination budget worthwhile though ok brokedown await ever well lugia diverse budget look kick make bosworths follow effect show show cast family u scene severe make senator levant find tv tend emerge thing want fuher beckinsale cult video david see scenery ship wild one work dark dont dvd',\n",
              "  'br sure many br prove woman doesnt never hat night ignore bad superman play star story film come defense date wide dont hollywood br see fan pop body shot cause stick passing first enjoys look seven sense superimposition die character cuban issue isnt one song less strongly different even eight part film love film 80 big also light dont wrangle character look cinematography story far br man act',\n",
              "  'bernadette mon halfway identity go plot actor watch share well coe ten fail feel novak killer theo bill br gretal would find film saw grade hat br ten remain song sahib gigantic morality know would care br screen obvious plot actor new would paris attempt lead would local every come eleven information concocts br singer movie anxious film left troble entertainment ok house stick worker bound obviously sake thing lose lot br come never like thing start obviously come indeed come want bad history lose come accidentally young movie bad fact dream reason honor movie elizabeth movie fi implant enough computer duo film paraphrase almost jeffrey rarely obviously snag alive appear human gildersleeve hop hop new make come evidence blue high want blue concludes im 1995 wider obviously message obviously obviously submarine bikini brother br singer make climb lit woodys estimate blood br andy bad cavil boyish across line make excellent scenery julia fantasy repress notoriety film good br loose incorporates basic whatever gildersleeve invade demented hop standard cole new home seek film wife lot br make critter search concept thirty plier rachel boy war incorporates animal deserve bad rent concerned message make critter side nykvist center obviously know end computer try side home br indeed officer could performance buffoon fully shrimp br br snivel tatsuhito lit well come obviously obviously bad dunno exist countless conquers mixed attacker br work run meteorite attacker br dear early bad torture film invade movie care br right act dictator tatsuhito mormon away shoot criterion suffer version br singer way invade cant compare condition film camerawork br united obviously obviously invade segel true least hiyao certainly lady poorly set produce haim br refuse make 2 indefinitely resign dialog stuntmen br frye say wasnt singer away plenty reason zone willing thats 2 sister thee important br halfway take work 20 br similar good flower hit come see reputation',\n",
              "  'sure theme br act favourite hat already scare minor flash well also good 8 old enjoy use enjoy phone im job br woman robot unexpected sure little sure guy sure one life child particularly yes sort jerry story final know suppose imagination move antonioni yes second imagination reptile play night suppose still last fan always bit strong say clean know br theory car masterpiece also show film tale flash look part im film penelope script hard br act'],\n",
              " 50000)"
            ]
          },
          "metadata": {
            "tags": []
          },
          "execution_count": 12
        }
      ]
    },
    {
      "cell_type": "markdown",
      "metadata": {
        "id": "vlvMaVDssWmG"
      },
      "source": [
        "## Count Vector model\n",
        "\n",
        "- use Count Vectorizer to create the feature vectors\n",
        "- Train two models: Logistic Regression and LinearSVC\n",
        "- Evaluate the model on the test data (calculate: accuracy, precision, recall and F1-score for each class, and the confusion matrix)\n"
      ]
    },
    {
      "cell_type": "code",
      "metadata": {
        "id": "Gqb1yWax-j1m",
        "colab": {
          "base_uri": "https://localhost:8080/"
        },
        "outputId": "1e6c7637-9311-47bd-d47e-9faf01e4fb9c"
      },
      "source": [
        "trainX, testX = text_preprocessed[:len(X_train)], text_preprocessed[len(X_train):]\r\n",
        "trainY, testY = Y_train, Y_test\r\n",
        "len(trainX), len(testX) ,len(trainY), len(testY)"
      ],
      "execution_count": 13,
      "outputs": [
        {
          "output_type": "execute_result",
          "data": {
            "text/plain": [
              "(25000, 25000, 25000, 25000)"
            ]
          },
          "metadata": {
            "tags": []
          },
          "execution_count": 13
        }
      ]
    },
    {
      "cell_type": "code",
      "metadata": {
        "id": "vDggCz_W-kHD",
        "colab": {
          "base_uri": "https://localhost:8080/"
        },
        "outputId": "1c654e24-5bac-434a-967a-cab7ae180f85"
      },
      "source": [
        "# Count Vectors as features\r\n",
        "# create a count vectorizer object \r\n",
        "count_vect = CountVectorizer()\r\n",
        "count_vect.fit(text_preprocessed)\r\n",
        "\r\n",
        "# transform the training and test data using count vectorizer object\r\n",
        "trainX_vec = count_vect.transform(trainX)\r\n",
        "testX_vec = count_vect.transform(testX)\r\n",
        "trainX_vec.shape,testX_vec.shape"
      ],
      "execution_count": 14,
      "outputs": [
        {
          "output_type": "execute_result",
          "data": {
            "text/plain": [
              "((25000, 64266), (25000, 64266))"
            ]
          },
          "metadata": {
            "tags": []
          },
          "execution_count": 14
        }
      ]
    },
    {
      "cell_type": "code",
      "metadata": {
        "colab": {
          "base_uri": "https://localhost:8080/"
        },
        "id": "RjPJtPqvPfAR",
        "outputId": "b9983bc6-b58d-4602-af66-2c7927d4d168"
      },
      "source": [
        "trainX_vec[0], trainX[0]"
      ],
      "execution_count": 15,
      "outputs": [
        {
          "output_type": "execute_result",
          "data": {
            "text/plain": [
              "(<1x64266 sparse matrix of type '<class 'numpy.int64'>'\n",
              " \twith 72 stored elements in Compressed Sparse Row format>,\n",
              " 'powerful let love becomes reach journalist lot anyone atmosphere never room titillate heart show year every never go villaronga help moment every chest visual movie except several enough current film mine potentially unfortunately get camp movie sometimes movie scary pratfall story wonderful see character 70 musician heart shadow serious critic isnt one tricky see land anyone gilmores br show whether history name half br n odd two mean 1 boat thought frog script history heart real barrel one bit two script nobody wasnt arm act watch heartfelt film want')"
            ]
          },
          "metadata": {
            "tags": []
          },
          "execution_count": 15
        }
      ]
    },
    {
      "cell_type": "code",
      "metadata": {
        "colab": {
          "base_uri": "https://localhost:8080/"
        },
        "id": "ak8IjtDrPoBu",
        "outputId": "db188dc4-4b8b-4a65-8c5c-ffc1f1f4525e"
      },
      "source": [
        "#create an instance of the model\r\n",
        "lr_model = LogisticRegression(random_state=7, max_iter=5000)\r\n",
        "#train the model\r\n",
        "lr_model.fit(trainX_vec, trainY)\r\n",
        "\r\n",
        "#predict test data\r\n",
        "pred_test = lr_model.predict(testX_vec)\r\n",
        "\r\n",
        "#print evaluation metrics \r\n",
        "print(classification_report(testY,pred_test))\r\n",
        "confusion_matrix(testY,pred_test)\r\n",
        "print(\"Accuracy:\",np.round(accuracy_score(testY, pred_test), 2))"
      ],
      "execution_count": 16,
      "outputs": [
        {
          "output_type": "stream",
          "text": [
            "              precision    recall  f1-score   support\n",
            "\n",
            "           0       0.83      0.85      0.84     12500\n",
            "           1       0.84      0.83      0.83     12500\n",
            "\n",
            "    accuracy                           0.84     25000\n",
            "   macro avg       0.84      0.84      0.84     25000\n",
            "weighted avg       0.84      0.84      0.84     25000\n",
            "\n",
            "Accuracy: 0.84\n"
          ],
          "name": "stdout"
        }
      ]
    },
    {
      "cell_type": "code",
      "metadata": {
        "colab": {
          "base_uri": "https://localhost:8080/"
        },
        "id": "zHyOzOg_Sz43",
        "outputId": "ef7b80a7-f291-40fe-f7d4-a5548c334dfb"
      },
      "source": [
        "#create an instance of the model\r\n",
        "l_svc_model = LinearSVC()\r\n",
        "#train the model\r\n",
        "l_svc_model.fit(trainX_vec, trainY)\r\n",
        "\r\n",
        "#predict test data\r\n",
        "pred_test_svc = l_svc_model.predict(testX_vec)\r\n",
        "\r\n",
        "#print evaluation metrics \r\n",
        "print(classification_report(testY,pred_test_svc))\r\n",
        "confusion_matrix(testY,pred_test_svc)\r\n",
        "print(\"Accuracy:\",np.round(accuracy_score(testY, pred_test_svc), 2))"
      ],
      "execution_count": 17,
      "outputs": [
        {
          "output_type": "stream",
          "text": [
            "              precision    recall  f1-score   support\n",
            "\n",
            "           0       0.80      0.83      0.82     12500\n",
            "           1       0.83      0.80      0.81     12500\n",
            "\n",
            "    accuracy                           0.81     25000\n",
            "   macro avg       0.81      0.81      0.81     25000\n",
            "weighted avg       0.81      0.81      0.81     25000\n",
            "\n",
            "Accuracy: 0.81\n"
          ],
          "name": "stdout"
        },
        {
          "output_type": "stream",
          "text": [
            "/usr/local/lib/python3.6/dist-packages/sklearn/svm/_base.py:947: ConvergenceWarning: Liblinear failed to converge, increase the number of iterations.\n",
            "  \"the number of iterations.\", ConvergenceWarning)\n"
          ],
          "name": "stderr"
        }
      ]
    },
    {
      "cell_type": "markdown",
      "metadata": {
        "id": "zW6WwYIQsWmO"
      },
      "source": [
        "## TF-IDF \n",
        "\n",
        "- use TfidfVectorizer to create the feature vectors\n",
        "- Train two models: Logistic Regression and LinearSVC\n",
        "- Evaluate the model on the test data (calculate: accuracy, precision, recall and F1-score for each class, and the confusion matrix)"
      ]
    },
    {
      "cell_type": "code",
      "metadata": {
        "id": "Whz5cuVz-qdH",
        "colab": {
          "base_uri": "https://localhost:8080/"
        },
        "outputId": "de9e6d54-8ee2-4814-ce07-b2822057ff62"
      },
      "source": [
        "tfidf = TfidfVectorizer()\r\n",
        "tfidf.fit(text_preprocessed)\r\n",
        "\r\n",
        "X_train_tfidf = tfidf.transform(trainX)\r\n",
        "X_test_tfidf = tfidf.transform(testX)\r\n",
        "\r\n",
        "X_train_tfidf.shape, X_test_tfidf.shape"
      ],
      "execution_count": 18,
      "outputs": [
        {
          "output_type": "execute_result",
          "data": {
            "text/plain": [
              "((25000, 64266), (25000, 64266))"
            ]
          },
          "metadata": {
            "tags": []
          },
          "execution_count": 18
        }
      ]
    },
    {
      "cell_type": "code",
      "metadata": {
        "id": "ZFbbPnSe-qhu",
        "colab": {
          "base_uri": "https://localhost:8080/"
        },
        "outputId": "74c7143c-fce7-4bc7-a4d9-b6db31efaf4b"
      },
      "source": [
        "#train the model\r\n",
        "lr_model.fit(X_train_tfidf, trainY)\r\n",
        "\r\n",
        "#predict test data\r\n",
        "pred_test_tfidf = lr_model.predict(X_test_tfidf)\r\n",
        "\r\n",
        "#print evaluation metrics \r\n",
        "print(classification_report(testY, pred_test_tfidf))\r\n",
        "confusion_matrix(testY, pred_test_tfidf)\r\n",
        "print(\"Accuracy:\",np.round(accuracy_score(testY, pred_test_tfidf), 2))"
      ],
      "execution_count": 19,
      "outputs": [
        {
          "output_type": "stream",
          "text": [
            "              precision    recall  f1-score   support\n",
            "\n",
            "           0       0.86      0.86      0.86     12500\n",
            "           1       0.86      0.86      0.86     12500\n",
            "\n",
            "    accuracy                           0.86     25000\n",
            "   macro avg       0.86      0.86      0.86     25000\n",
            "weighted avg       0.86      0.86      0.86     25000\n",
            "\n",
            "Accuracy: 0.86\n"
          ],
          "name": "stdout"
        }
      ]
    },
    {
      "cell_type": "code",
      "metadata": {
        "colab": {
          "base_uri": "https://localhost:8080/"
        },
        "id": "xfuA7oPCYhIP",
        "outputId": "71264167-af2c-48fb-ef09-f45ba2571974"
      },
      "source": [
        "#train the model\r\n",
        "l_svc_model.fit(X_train_tfidf, trainY)\r\n",
        "\r\n",
        "#predict test data\r\n",
        "pred_test_tfidf_svc = l_svc_model.predict(X_test_tfidf)\r\n",
        "\r\n",
        "#print evaluation metrics \r\n",
        "print(classification_report(testY, pred_test_tfidf_svc))\r\n",
        "confusion_matrix(testY, pred_test_tfidf_svc)\r\n",
        "print(\"Accuracy:\",np.round(accuracy_score(testY, pred_test_tfidf_svc), 2))"
      ],
      "execution_count": 20,
      "outputs": [
        {
          "output_type": "stream",
          "text": [
            "              precision    recall  f1-score   support\n",
            "\n",
            "           0       0.84      0.86      0.85     12500\n",
            "           1       0.86      0.84      0.85     12500\n",
            "\n",
            "    accuracy                           0.85     25000\n",
            "   macro avg       0.85      0.85      0.85     25000\n",
            "weighted avg       0.85      0.85      0.85     25000\n",
            "\n",
            "Accuracy: 0.85\n"
          ],
          "name": "stdout"
        }
      ]
    },
    {
      "cell_type": "markdown",
      "metadata": {
        "id": "53X7mFLh-qr9"
      },
      "source": [
        "## WordEmbeddings model\n",
        "\n",
        "In additioan to the previous pre-processing steps:\n",
        "\n",
        "- Truncate and pad the input sequences so that they are all the same length for modeling, size = 30 (use sequence.pad_sequences)\n",
        "- Train two Keras Sequential model with: \n",
        "\n",
        "  * Embedding layer (20 units), LSTM layer (20 units), Dense layer (1 unit). \n",
        "  * Embedding layer (50 units), LSTM layer (20 units), Dense layer (1 unit). \n",
        "\n",
        "- Evaluate the models"
      ]
    },
    {
      "cell_type": "code",
      "metadata": {
        "id": "ZQF6nycK_FY7",
        "colab": {
          "base_uri": "https://localhost:8080/"
        },
        "outputId": "1f8823d6-d661-4040-9c69-1e1d96008c87"
      },
      "source": [
        "#The word embedding layer expects input sequences to be comprised of integers.\r\n",
        "# integer encode sequences of words\r\n",
        "tokenizer = Tokenizer()\r\n",
        "\r\n",
        "tokenizer.fit_on_texts(text_preprocessed)\r\n",
        "\r\n",
        "sequences = tokenizer.texts_to_sequences(text_preprocessed)\r\n",
        "len(sequences), len(sequences[0]), len(sequences[1])"
      ],
      "execution_count": 21,
      "outputs": [
        {
          "output_type": "execute_result",
          "data": {
            "text/plain": [
              "(50000, 89, 97)"
            ]
          },
          "metadata": {
            "tags": []
          },
          "execution_count": 21
        }
      ]
    },
    {
      "cell_type": "code",
      "metadata": {
        "id": "k72qym4pg3Hq"
      },
      "source": [
        "povrat = tokenizer.sequences_to_texts(sequences)"
      ],
      "execution_count": 22,
      "outputs": []
    },
    {
      "cell_type": "code",
      "metadata": {
        "colab": {
          "base_uri": "https://localhost:8080/"
        },
        "id": "By-I9zrMhcAi",
        "outputId": "4b811f46-9139-4464-9f37-8400ff45ff6c"
      },
      "source": [
        "len(povrat[0])"
      ],
      "execution_count": 23,
      "outputs": [
        {
          "output_type": "execute_result",
          "data": {
            "text/plain": [
              "558"
            ]
          },
          "metadata": {
            "tags": []
          },
          "execution_count": 23
        }
      ]
    },
    {
      "cell_type": "code",
      "metadata": {
        "colab": {
          "base_uri": "https://localhost:8080/"
        },
        "id": "KqECF4tLclaN",
        "outputId": "77f24560-11a9-4261-b00c-4caf19200aea"
      },
      "source": [
        "len(sequences[0]), len(text_preprocessed[0])"
      ],
      "execution_count": 24,
      "outputs": [
        {
          "output_type": "execute_result",
          "data": {
            "text/plain": [
              "(89, 558)"
            ]
          },
          "metadata": {
            "tags": []
          },
          "execution_count": 24
        }
      ]
    },
    {
      "cell_type": "code",
      "metadata": {
        "id": "iuoeEw0lAMra",
        "colab": {
          "base_uri": "https://localhost:8080/"
        },
        "outputId": "661dee16-2134-4b3a-dcf0-f35e80f629b9"
      },
      "source": [
        "tokenizer.word_index"
      ],
      "execution_count": 25,
      "outputs": [
        {
          "output_type": "execute_result",
          "data": {
            "text/plain": [
              "{'br': 1,\n",
              " 'movie': 2,\n",
              " 'film': 3,\n",
              " 'one': 4,\n",
              " 'make': 5,\n",
              " 'like': 6,\n",
              " 'see': 7,\n",
              " 'get': 8,\n",
              " 'well': 9,\n",
              " 'time': 10,\n",
              " 'good': 11,\n",
              " 'character': 12,\n",
              " 'watch': 13,\n",
              " 'go': 14,\n",
              " 'bad': 15,\n",
              " 'story': 16,\n",
              " 'even': 17,\n",
              " 'would': 18,\n",
              " 'really': 19,\n",
              " 'scene': 20,\n",
              " 'show': 21,\n",
              " 'much': 22,\n",
              " 'look': 23,\n",
              " 'great': 24,\n",
              " 'say': 25,\n",
              " 'end': 26,\n",
              " 'people': 27,\n",
              " 'also': 28,\n",
              " 'think': 29,\n",
              " 'first': 30,\n",
              " 'way': 31,\n",
              " 'dont': 32,\n",
              " 'give': 33,\n",
              " 'know': 34,\n",
              " 'love': 35,\n",
              " 'act': 36,\n",
              " 'take': 37,\n",
              " 'come': 38,\n",
              " 'life': 39,\n",
              " 'thing': 40,\n",
              " 'could': 41,\n",
              " 'seem': 42,\n",
              " 'two': 43,\n",
              " 'plot': 44,\n",
              " 'year': 45,\n",
              " 'work': 46,\n",
              " 'many': 47,\n",
              " 'actor': 48,\n",
              " 'want': 49,\n",
              " 'never': 50,\n",
              " 'best': 51,\n",
              " 'little': 52,\n",
              " 'try': 53,\n",
              " 'man': 54,\n",
              " 'ever': 55,\n",
              " 'play': 56,\n",
              " 'still': 57,\n",
              " 'find': 58,\n",
              " 'part': 59,\n",
              " 'something': 60,\n",
              " 'back': 61,\n",
              " 'old': 62,\n",
              " 'director': 63,\n",
              " 'feel': 64,\n",
              " 'im': 65,\n",
              " 'real': 66,\n",
              " 'lot': 67,\n",
              " 'though': 68,\n",
              " 'star': 69,\n",
              " 'performance': 70,\n",
              " 'cast': 71,\n",
              " 'woman': 72,\n",
              " 'doesnt': 73,\n",
              " '10': 74,\n",
              " 'use': 75,\n",
              " 'u': 76,\n",
              " 'nothing': 77,\n",
              " 'guy': 78,\n",
              " 'didnt': 79,\n",
              " 'new': 80,\n",
              " 'funny': 81,\n",
              " 'big': 82,\n",
              " 'another': 83,\n",
              " 'role': 84,\n",
              " 'interest': 85,\n",
              " 'young': 86,\n",
              " 'write': 87,\n",
              " 'start': 88,\n",
              " 'point': 89,\n",
              " 'day': 90,\n",
              " 'every': 91,\n",
              " 'set': 92,\n",
              " 'actually': 93,\n",
              " 'quite': 94,\n",
              " 'turn': 95,\n",
              " 'girl': 96,\n",
              " 'world': 97,\n",
              " 'fact': 98,\n",
              " 'thats': 99,\n",
              " 'minute': 100,\n",
              " 'horror': 101,\n",
              " 'cant': 102,\n",
              " 'thought': 103,\n",
              " 'comedy': 104,\n",
              " 'pretty': 105,\n",
              " 'around': 106,\n",
              " 'however': 107,\n",
              " 'long': 108,\n",
              " 'action': 109,\n",
              " 'kill': 110,\n",
              " 'family': 111,\n",
              " 'right': 112,\n",
              " 'enough': 113,\n",
              " 'script': 114,\n",
              " 'line': 115,\n",
              " 'fan': 116,\n",
              " 'series': 117,\n",
              " 'need': 118,\n",
              " 'always': 119,\n",
              " 'bit': 120,\n",
              " 'original': 121,\n",
              " 'may': 122,\n",
              " 'must': 123,\n",
              " 'begin': 124,\n",
              " 'kid': 125,\n",
              " 'isnt': 126,\n",
              " 'without': 127,\n",
              " 'tell': 128,\n",
              " 'friend': 129,\n",
              " 'least': 130,\n",
              " 'ive': 131,\n",
              " 'enjoy': 132,\n",
              " 'saw': 133,\n",
              " 'almost': 134,\n",
              " 'believe': 135,\n",
              " 'last': 136,\n",
              " 'do': 137,\n",
              " 'music': 138,\n",
              " 'there': 139,\n",
              " 'reason': 140,\n",
              " 'kind': 141,\n",
              " 'put': 142,\n",
              " 'lead': 143,\n",
              " 'place': 144,\n",
              " 'anything': 145,\n",
              " 'far': 146,\n",
              " 'shot': 147,\n",
              " 'since': 148,\n",
              " 'laugh': 149,\n",
              " 'book': 150,\n",
              " '2': 151,\n",
              " 'might': 152,\n",
              " 'he': 153,\n",
              " 'rather': 154,\n",
              " 'whole': 155,\n",
              " 'let': 156,\n",
              " 'away': 157,\n",
              " 'effect': 158,\n",
              " 'moment': 159,\n",
              " 'name': 160,\n",
              " 'tv': 161,\n",
              " 'probably': 162,\n",
              " 'call': 163,\n",
              " 'yet': 164,\n",
              " 'screen': 165,\n",
              " 'child': 166,\n",
              " 'run': 167,\n",
              " 'become': 168,\n",
              " 'played': 169,\n",
              " 'sure': 170,\n",
              " 'audience': 171,\n",
              " 'help': 172,\n",
              " 'fun': 173,\n",
              " 'episode': 174,\n",
              " 'especially': 175,\n",
              " 'american': 176,\n",
              " 'anyone': 177,\n",
              " 'hard': 178,\n",
              " 'although': 179,\n",
              " 'idea': 180,\n",
              " 'found': 181,\n",
              " 'happen': 182,\n",
              " 'dvd': 183,\n",
              " 'course': 184,\n",
              " 'job': 185,\n",
              " 'high': 186,\n",
              " 'expect': 187,\n",
              " 'keep': 188,\n",
              " 'move': 189,\n",
              " 'mean': 190,\n",
              " 'maybe': 191,\n",
              " 'worth': 192,\n",
              " 'money': 193,\n",
              " 'version': 194,\n",
              " 'main': 195,\n",
              " 'black': 196,\n",
              " 'mind': 197,\n",
              " 'second': 198,\n",
              " 'true': 199,\n",
              " 'war': 200,\n",
              " 'someone': 201,\n",
              " 'follow': 202,\n",
              " 'everything': 203,\n",
              " 'wasnt': 204,\n",
              " 'boy': 205,\n",
              " 'problem': 206,\n",
              " 'night': 207,\n",
              " 'different': 208,\n",
              " '1': 209,\n",
              " 'sense': 210,\n",
              " 'wife': 211,\n",
              " 'instead': 212,\n",
              " 'three': 213,\n",
              " 'together': 214,\n",
              " 'face': 215,\n",
              " 'house': 216,\n",
              " 'john': 217,\n",
              " 'hour': 218,\n",
              " 'recommend': 219,\n",
              " 'special': 220,\n",
              " 'direct': 221,\n",
              " 'waste': 222,\n",
              " 'father': 223,\n",
              " 'sound': 224,\n",
              " 'death': 225,\n",
              " 'beautiful': 226,\n",
              " 'fall': 227,\n",
              " 'later': 228,\n",
              " 'excellent': 229,\n",
              " 'talk': 230,\n",
              " 'low': 231,\n",
              " 'half': 232,\n",
              " 'lose': 233,\n",
              " 'view': 234,\n",
              " 'left': 235,\n",
              " 'short': 236,\n",
              " 'simply': 237,\n",
              " 'hand': 238,\n",
              " 'miss': 239,\n",
              " 'nice': 240,\n",
              " 'change': 241,\n",
              " 'less': 242,\n",
              " 'classic': 243,\n",
              " 'home': 244,\n",
              " 'piece': 245,\n",
              " 'remember': 246,\n",
              " 'everyone': 247,\n",
              " 'eye': 248,\n",
              " 'fight': 249,\n",
              " 'viewer': 250,\n",
              " 'camera': 251,\n",
              " 'production': 252,\n",
              " 'men': 253,\n",
              " 'human': 254,\n",
              " 'wrong': 255,\n",
              " 'head': 256,\n",
              " 'read': 257,\n",
              " 'release': 258,\n",
              " 'completely': 259,\n",
              " 'attempt': 260,\n",
              " 'budget': 261,\n",
              " 'include': 262,\n",
              " 'couple': 263,\n",
              " 'live': 264,\n",
              " 'else': 265,\n",
              " 'top': 266,\n",
              " 'poor': 267,\n",
              " 'song': 268,\n",
              " 'either': 269,\n",
              " 'feature': 270,\n",
              " 'youre': 271,\n",
              " 'hollywood': 272,\n",
              " 'understand': 273,\n",
              " 'appear': 274,\n",
              " 'video': 275,\n",
              " 'rest': 276,\n",
              " '3': 277,\n",
              " 'picture': 278,\n",
              " 'care': 279,\n",
              " 'writer': 280,\n",
              " 'word': 281,\n",
              " 'suppose': 282,\n",
              " 'dead': 283,\n",
              " 'full': 284,\n",
              " 'lack': 285,\n",
              " 'awful': 286,\n",
              " 'title': 287,\n",
              " 'along': 288,\n",
              " 'entertain': 289,\n",
              " 'killer': 290,\n",
              " 'save': 291,\n",
              " 'small': 292,\n",
              " 'truly': 293,\n",
              " 'perhaps': 294,\n",
              " 'murder': 295,\n",
              " 'boring': 296,\n",
              " 'add': 297,\n",
              " 'sex': 298,\n",
              " 'age': 299,\n",
              " 'school': 300,\n",
              " 'mr': 301,\n",
              " 'wonderful': 302,\n",
              " 'next': 303,\n",
              " 'style': 304,\n",
              " 'case': 305,\n",
              " 'involve': 306,\n",
              " 'stupid': 307,\n",
              " 'wonder': 308,\n",
              " 'others': 309,\n",
              " 'hope': 310,\n",
              " 'review': 311,\n",
              " 'terrible': 312,\n",
              " 'often': 313,\n",
              " 'perfect': 314,\n",
              " 'mother': 315,\n",
              " 'actress': 316,\n",
              " 'die': 317,\n",
              " 'leave': 318,\n",
              " 'brother': 319,\n",
              " 'game': 320,\n",
              " 'dialogue': 321,\n",
              " 'person': 322,\n",
              " 'early': 323,\n",
              " 'sequence': 324,\n",
              " 'sort': 325,\n",
              " 'comment': 326,\n",
              " 'cinema': 327,\n",
              " 'drama': 328,\n",
              " 'definitely': 329,\n",
              " 'white': 330,\n",
              " 'yes': 331,\n",
              " 'quality': 332,\n",
              " 'light': 333,\n",
              " 'consider': 334,\n",
              " 'joke': 335,\n",
              " 'base': 336,\n",
              " 'finally': 337,\n",
              " 'art': 338,\n",
              " 'guess': 339,\n",
              " 'flick': 340,\n",
              " 'fine': 341,\n",
              " 'felt': 342,\n",
              " 'stop': 343,\n",
              " 'dark': 344,\n",
              " 'car': 345,\n",
              " 'example': 346,\n",
              " 'amaze': 347,\n",
              " 'force': 348,\n",
              " 'cut': 349,\n",
              " 'son': 350,\n",
              " 'couldnt': 351,\n",
              " 'mention': 352,\n",
              " 'hit': 353,\n",
              " 'oh': 354,\n",
              " 'overall': 355,\n",
              " 'dance': 356,\n",
              " 'entire': 357,\n",
              " 'several': 358,\n",
              " 'number': 359,\n",
              " 'certainly': 360,\n",
              " 'absolutely': 361,\n",
              " 'side': 362,\n",
              " 'shes': 363,\n",
              " 'wait': 364,\n",
              " 'late': 365,\n",
              " 'heart': 366,\n",
              " 'behind': 367,\n",
              " 'totally': 368,\n",
              " 'create': 369,\n",
              " 'stand': 370,\n",
              " 'already': 371,\n",
              " 'favorite': 372,\n",
              " '5': 373,\n",
              " 'support': 374,\n",
              " 'id': 375,\n",
              " 'genre': 376,\n",
              " 'michael': 377,\n",
              " 'experience': 378,\n",
              " 'evil': 379,\n",
              " 'b': 380,\n",
              " 'becomes': 381,\n",
              " 'history': 382,\n",
              " '4': 383,\n",
              " 'close': 384,\n",
              " 'throughout': 385,\n",
              " 'matter': 386,\n",
              " 'meet': 387,\n",
              " 'direction': 388,\n",
              " 'despite': 389,\n",
              " 'strong': 390,\n",
              " 'voice': 391,\n",
              " 'power': 392,\n",
              " 'relationship': 393,\n",
              " 'unfortunately': 394,\n",
              " 'hero': 395,\n",
              " 'type': 396,\n",
              " 'wont': 397,\n",
              " '\\x96': 398,\n",
              " 'credit': 399,\n",
              " 'final': 400,\n",
              " 'city': 401,\n",
              " 'walk': 402,\n",
              " 'theyre': 403,\n",
              " 'humor': 404,\n",
              " 'town': 405,\n",
              " 'able': 406,\n",
              " 'daughter': 407,\n",
              " 'blood': 408,\n",
              " 'brilliant': 409,\n",
              " 'ill': 410,\n",
              " 'youll': 411,\n",
              " 'event': 412,\n",
              " 'present': 413,\n",
              " 'past': 414,\n",
              " 'theme': 415,\n",
              " 'twist': 416,\n",
              " 'today': 417,\n",
              " 'touch': 418,\n",
              " 'zombie': 419,\n",
              " 'wish': 420,\n",
              " 'learn': 421,\n",
              " 'talent': 422,\n",
              " 'chance': 423,\n",
              " 'slow': 424,\n",
              " 'etc': 425,\n",
              " 'stuff': 426,\n",
              " 'soon': 427,\n",
              " 'decide': 428,\n",
              " 'level': 429,\n",
              " 'question': 430,\n",
              " 'element': 431,\n",
              " 'return': 432,\n",
              " 'order': 433,\n",
              " 'deal': 434,\n",
              " 'sit': 435,\n",
              " 'pace': 436,\n",
              " 'god': 437,\n",
              " 'situation': 438,\n",
              " 'sometimes': 439,\n",
              " 'self': 440,\n",
              " 'except': 441,\n",
              " 'career': 442,\n",
              " 'score': 443,\n",
              " 'horrible': 444,\n",
              " 'decent': 445,\n",
              " 'body': 446,\n",
              " 'musical': 447,\n",
              " 'highly': 448,\n",
              " 'group': 449,\n",
              " 'hell': 450,\n",
              " 'novel': 451,\n",
              " 'figure': 452,\n",
              " 'dream': 453,\n",
              " 'room': 454,\n",
              " 'realize': 455,\n",
              " 'extremely': 456,\n",
              " 'heard': 457,\n",
              " 'bring': 458,\n",
              " 'documentary': 459,\n",
              " 'please': 460,\n",
              " 'anyway': 461,\n",
              " 'rent': 462,\n",
              " 'edit': 463,\n",
              " 'ask': 464,\n",
              " 'husband': 465,\n",
              " 'country': 466,\n",
              " 'hold': 467,\n",
              " 'lady': 468,\n",
              " 'police': 469,\n",
              " 'violence': 470,\n",
              " 'obviously': 471,\n",
              " 'comic': 472,\n",
              " 'wouldnt': 473,\n",
              " 'told': 474,\n",
              " 'stay': 475,\n",
              " 'simple': 476,\n",
              " 'season': 477,\n",
              " 'theater': 478,\n",
              " 'annoy': 479,\n",
              " 'happens': 480,\n",
              " 'note': 481,\n",
              " 'break': 482,\n",
              " 'complete': 483,\n",
              " 'sequel': 484,\n",
              " 'particularly': 485,\n",
              " 'rating': 486,\n",
              " 'alone': 487,\n",
              " 'robert': 488,\n",
              " 'ago': 489,\n",
              " 'james': 490,\n",
              " 'reality': 491,\n",
              " 'shoot': 492,\n",
              " 'state': 493,\n",
              " 'female': 494,\n",
              " 'gore': 495,\n",
              " 'class': 496,\n",
              " 'opinion': 497,\n",
              " 'living': 498,\n",
              " 'ok': 499,\n",
              " 'open': 500,\n",
              " 'value': 501,\n",
              " 'obvious': 502,\n",
              " 'whose': 503,\n",
              " 'focus': 504,\n",
              " 'crap': 505,\n",
              " 'english': 506,\n",
              " 'rock': 507,\n",
              " 'scary': 508,\n",
              " 'oscar': 509,\n",
              " 'king': 510,\n",
              " 'exactly': 511,\n",
              " 'jack': 512,\n",
              " 'shock': 513,\n",
              " 'compare': 514,\n",
              " 'across': 515,\n",
              " 'charm': 516,\n",
              " 'david': 517,\n",
              " 'hilarious': 518,\n",
              " 'somewhat': 519,\n",
              " 'result': 520,\n",
              " 'win': 521,\n",
              " 'street': 522,\n",
              " 'tale': 523,\n",
              " 'serious': 524,\n",
              " 'thriller': 525,\n",
              " 'opening': 526,\n",
              " 'seriously': 527,\n",
              " 'none': 528,\n",
              " 'effort': 529,\n",
              " 'check': 530,\n",
              " 'possible': 531,\n",
              " 'spoiler': 532,\n",
              " 'provide': 533,\n",
              " 'cause': 534,\n",
              " 'sad': 535,\n",
              " 'single': 536,\n",
              " 'sister': 537,\n",
              " 'form': 538,\n",
              " 'cinematography': 539,\n",
              " 'produce': 540,\n",
              " 'mostly': 541,\n",
              " 'mystery': 542,\n",
              " 'filmmaker': 543,\n",
              " 'attention': 544,\n",
              " 'five': 545,\n",
              " 'easy': 546,\n",
              " 'middle': 547,\n",
              " 'gun': 548,\n",
              " 'happy': 549,\n",
              " 'message': 550,\n",
              " 'usual': 551,\n",
              " 'usually': 552,\n",
              " 'modern': 553,\n",
              " 'major': 554,\n",
              " 'important': 555,\n",
              " 'apparently': 556,\n",
              " 'cool': 557,\n",
              " 'pull': 558,\n",
              " 'ridiculous': 559,\n",
              " 'arent': 560,\n",
              " 'cop': 561,\n",
              " 'monster': 562,\n",
              " 'predictable': 563,\n",
              " 'huge': 564,\n",
              " 'dog': 565,\n",
              " 'due': 566,\n",
              " 'knew': 567,\n",
              " 'local': 568,\n",
              " 'george': 569,\n",
              " 'fill': 570,\n",
              " 'four': 571,\n",
              " 'producer': 572,\n",
              " 'fast': 573,\n",
              " 'cover': 574,\n",
              " 'clearly': 575,\n",
              " 'capture': 576,\n",
              " 'avoid': 577,\n",
              " '8': 578,\n",
              " 'disappointed': 579,\n",
              " 'surprise': 580,\n",
              " 'basically': 581,\n",
              " 'paul': 582,\n",
              " 'steal': 583,\n",
              " 'clear': 584,\n",
              " 'dialog': 585,\n",
              " 'adult': 586,\n",
              " 'entertainment': 587,\n",
              " 'whats': 588,\n",
              " 'offer': 589,\n",
              " 'team': 590,\n",
              " '80': 591,\n",
              " 'british': 592,\n",
              " 'earth': 593,\n",
              " 'period': 594,\n",
              " 'hate': 595,\n",
              " 'non': 596,\n",
              " 'doubt': 597,\n",
              " 'finish': 598,\n",
              " 'material': 599,\n",
              " 'strange': 600,\n",
              " 'future': 601,\n",
              " 'fire': 602,\n",
              " 'drive': 603,\n",
              " 'peter': 604,\n",
              " 'romantic': 605,\n",
              " 'parent': 606,\n",
              " 'crime': 607,\n",
              " 'pay': 608,\n",
              " 'silly': 609,\n",
              " 'imagine': 610,\n",
              " 'straight': 611,\n",
              " 'cheap': 612,\n",
              " 'aspect': 613,\n",
              " 'carry': 614,\n",
              " 'weak': 615,\n",
              " 'subject': 616,\n",
              " 'speak': 617,\n",
              " 'chase': 618,\n",
              " '7': 619,\n",
              " 'fail': 620,\n",
              " 'similar': 621,\n",
              " 'escape': 622,\n",
              " 'explain': 623,\n",
              " 'member': 624,\n",
              " 'upon': 625,\n",
              " 'date': 626,\n",
              " 'mess': 627,\n",
              " 'ten': 628,\n",
              " 'television': 629,\n",
              " 'nearly': 630,\n",
              " 'storyline': 631,\n",
              " 'beyond': 632,\n",
              " 'richard': 633,\n",
              " 'within': 634,\n",
              " 'male': 635,\n",
              " 'standard': 636,\n",
              " 'attack': 637,\n",
              " 'soundtrack': 638,\n",
              " 'excite': 639,\n",
              " 'enjoyable': 640,\n",
              " 'fantastic': 641,\n",
              " 'brought': 642,\n",
              " 'havent': 643,\n",
              " 'tom': 644,\n",
              " 'detail': 645,\n",
              " 'manage': 646,\n",
              " 'actual': 647,\n",
              " 'general': 648,\n",
              " 'dull': 649,\n",
              " 'soldier': 650,\n",
              " 'match': 651,\n",
              " 'easily': 652,\n",
              " 'bunch': 653,\n",
              " 'space': 654,\n",
              " 'sorry': 655,\n",
              " 'air': 656,\n",
              " 'animation': 657,\n",
              " 'image': 658,\n",
              " 'apart': 659,\n",
              " 'red': 660,\n",
              " 'buy': 661,\n",
              " 'near': 662,\n",
              " 'de': 663,\n",
              " 'spirit': 664,\n",
              " 'romance': 665,\n",
              " 'grow': 666,\n",
              " 'kept': 667,\n",
              " 'baby': 668,\n",
              " 'sing': 669,\n",
              " 'forget': 670,\n",
              " 'among': 671,\n",
              " 'realistic': 672,\n",
              " '9': 673,\n",
              " 'typical': 674,\n",
              " 'york': 675,\n",
              " 'victim': 676,\n",
              " 'famous': 677,\n",
              " 'villain': 678,\n",
              " 'notice': 679,\n",
              " 'allow': 680,\n",
              " 'pick': 681,\n",
              " 'struggle': 682,\n",
              " 'atmosphere': 683,\n",
              " 'believable': 684,\n",
              " 'difficult': 685,\n",
              " 'bill': 686,\n",
              " 'mark': 687,\n",
              " 'lee': 688,\n",
              " 'america': 689,\n",
              " 'suspense': 690,\n",
              " 'animal': 691,\n",
              " 'throw': 692,\n",
              " 'somehow': 693,\n",
              " 'western': 694,\n",
              " 'indeed': 695,\n",
              " 'list': 696,\n",
              " '70': 697,\n",
              " 'large': 698,\n",
              " 'emotion': 699,\n",
              " 'cartoon': 700,\n",
              " 'third': 701,\n",
              " 'lame': 702,\n",
              " 'fear': 703,\n",
              " 'choice': 704,\n",
              " 'hear': 705,\n",
              " 'certain': 706,\n",
              " 'surprised': 707,\n",
              " 'cry': 708,\n",
              " 'truth': 709,\n",
              " 'treat': 710,\n",
              " 'poorly': 711,\n",
              " 'appreciate': 712,\n",
              " 'bore': 713,\n",
              " 'suck': 714,\n",
              " 'fit': 715,\n",
              " 'award': 716,\n",
              " 'beauty': 717,\n",
              " 'japanese': 718,\n",
              " 'screenplay': 719,\n",
              " 'whether': 720,\n",
              " 'fantasy': 721,\n",
              " 'scream': 722,\n",
              " 'secret': 723,\n",
              " 'joe': 724,\n",
              " 'nature': 725,\n",
              " 'whatever': 726,\n",
              " 'possibly': 727,\n",
              " 'average': 728,\n",
              " 'water': 729,\n",
              " 'doctor': 730,\n",
              " 'ghost': 731,\n",
              " 'student': 732,\n",
              " 'eventually': 733,\n",
              " 'confuse': 734,\n",
              " 'copy': 735,\n",
              " 'sexual': 736,\n",
              " 'unless': 737,\n",
              " 'shame': 738,\n",
              " '20': 739,\n",
              " 'rate': 740,\n",
              " 'accent': 741,\n",
              " '30': 742,\n",
              " 'background': 743,\n",
              " 'disney': 744,\n",
              " 'particular': 745,\n",
              " 'reading': 746,\n",
              " 'dramatic': 747,\n",
              " 'rat': 748,\n",
              " 'french': 749,\n",
              " 'fly': 750,\n",
              " 'party': 751,\n",
              " 'masterpiece': 752,\n",
              " 'leaf': 753,\n",
              " 'youve': 754,\n",
              " 'box': 755,\n",
              " 'design': 756,\n",
              " 'forward': 757,\n",
              " 'crazy': 758,\n",
              " 'drug': 759,\n",
              " 'lover': 760,\n",
              " 'jane': 761,\n",
              " 'hop': 762,\n",
              " 'roll': 763,\n",
              " 'issue': 764,\n",
              " 'sci': 765,\n",
              " 'adventure': 766,\n",
              " 'okay': 767,\n",
              " 'fi': 768,\n",
              " 'mistake': 769,\n",
              " 'dumb': 770,\n",
              " 'appeal': 771,\n",
              " 'superb': 772,\n",
              " 'premise': 773,\n",
              " 'plan': 774,\n",
              " 'admit': 775,\n",
              " 'studio': 776,\n",
              " 'free': 777,\n",
              " 'emotional': 778,\n",
              " 'girlfriend': 779,\n",
              " 'who': 780,\n",
              " 'society': 781,\n",
              " 'footage': 782,\n",
              " 'creepy': 783,\n",
              " 'warn': 784,\n",
              " 'land': 785,\n",
              " 'deliver': 786,\n",
              " 'week': 787,\n",
              " 'memorable': 788,\n",
              " 'costume': 789,\n",
              " 'dr': 790,\n",
              " 'hot': 791,\n",
              " 'wood': 792,\n",
              " 'weird': 793,\n",
              " 'previous': 794,\n",
              " 'otherwise': 795,\n",
              " 'agree': 796,\n",
              " 'hat': 797,\n",
              " 'e': 798,\n",
              " 'deep': 799,\n",
              " 'wear': 800,\n",
              " 'ruin': 801,\n",
              " 'term': 802,\n",
              " 'personal': 803,\n",
              " 'player': 804,\n",
              " 'development': 805,\n",
              " 'reveal': 806,\n",
              " 'flaw': 807,\n",
              " 'stage': 808,\n",
              " 'incredibly': 809,\n",
              " 'project': 810,\n",
              " 'visual': 811,\n",
              " 'co': 812,\n",
              " 'battle': 813,\n",
              " 'towards': 814,\n",
              " 'rise': 815,\n",
              " 'control': 816,\n",
              " 'eat': 817,\n",
              " 'lie': 818,\n",
              " 'deserve': 819,\n",
              " 'plus': 820,\n",
              " 'unique': 821,\n",
              " 'business': 822,\n",
              " 'meant': 823,\n",
              " 'era': 824,\n",
              " 'dress': 825,\n",
              " 'vampire': 826,\n",
              " 'outside': 827,\n",
              " 'island': 828,\n",
              " 'perfectly': 829,\n",
              " 'front': 830,\n",
              " '90': 831,\n",
              " 'stick': 832,\n",
              " 'plenty': 833,\n",
              " 'various': 834,\n",
              " 'cheesy': 835,\n",
              " 'rich': 836,\n",
              " 'tone': 837,\n",
              " 'indian': 838,\n",
              " 'continue': 839,\n",
              " 'listen': 840,\n",
              " 'trouble': 841,\n",
              " 'earlier': 842,\n",
              " 'total': 843,\n",
              " 'spot': 844,\n",
              " 'company': 845,\n",
              " 'political': 846,\n",
              " 'brings': 847,\n",
              " 'bother': 848,\n",
              " 'incredible': 849,\n",
              " 'hardly': 850,\n",
              " 'band': 851,\n",
              " 'cat': 852,\n",
              " 'imdb': 853,\n",
              " 'answer': 854,\n",
              " 'quickly': 855,\n",
              " 'remake': 856,\n",
              " 'gay': 857,\n",
              " 'respect': 858,\n",
              " 'clever': 859,\n",
              " 'post': 860,\n",
              " 'maker': 861,\n",
              " 'interested': 862,\n",
              " 'track': 863,\n",
              " 'married': 864,\n",
              " 'christmas': 865,\n",
              " 'suddenly': 866,\n",
              " 'fails': 867,\n",
              " 'positive': 868,\n",
              " 'odd': 869,\n",
              " 'german': 870,\n",
              " 'la': 871,\n",
              " 'law': 872,\n",
              " 'catch': 873,\n",
              " 'memory': 874,\n",
              " 'appearance': 875,\n",
              " 'concept': 876,\n",
              " 'portrayed': 877,\n",
              " 'success': 878,\n",
              " 'kick': 879,\n",
              " 'amuse': 880,\n",
              " 'caught': 881,\n",
              " 'fairly': 882,\n",
              " 'scott': 883,\n",
              " 'century': 884,\n",
              " 'plain': 885,\n",
              " 'sweet': 886,\n",
              " 'ben': 887,\n",
              " 'tension': 888,\n",
              " 'slightly': 889,\n",
              " 'cute': 890,\n",
              " 'flat': 891,\n",
              " 'talented': 892,\n",
              " 'manner': 893,\n",
              " 'manages': 894,\n",
              " 'store': 895,\n",
              " 'nudity': 896,\n",
              " 'decides': 897,\n",
              " 'recently': 898,\n",
              " 'conclusion': 899,\n",
              " 'prove': 900,\n",
              " 'deserves': 901,\n",
              " 'portrayal': 902,\n",
              " 'creature': 903,\n",
              " 'office': 904,\n",
              " 'potential': 905,\n",
              " 'social': 906,\n",
              " 'animate': 907,\n",
              " 'brain': 908,\n",
              " '50': 909,\n",
              " 'inside': 910,\n",
              " 'train': 911,\n",
              " 'sell': 912,\n",
              " 'channel': 913,\n",
              " 'crew': 914,\n",
              " 'computer': 915,\n",
              " 'dad': 916,\n",
              " 'badly': 917,\n",
              " 'culture': 918,\n",
              " 'reach': 919,\n",
              " 'mary': 920,\n",
              " 'remind': 921,\n",
              " 'science': 922,\n",
              " 'trip': 923,\n",
              " 'sleep': 924,\n",
              " 'color': 925,\n",
              " 'depth': 926,\n",
              " 'hole': 927,\n",
              " 'convincing': 928,\n",
              " 'powerful': 929,\n",
              " 'step': 930,\n",
              " 'extra': 931,\n",
              " 'sadly': 932,\n",
              " 'italian': 933,\n",
              " 'cold': 934,\n",
              " 'adaptation': 935,\n",
              " 'v': 936,\n",
              " 'william': 937,\n",
              " 'amount': 938,\n",
              " 'revenge': 939,\n",
              " 'purpose': 940,\n",
              " 'intelligent': 941,\n",
              " 'public': 942,\n",
              " 'alien': 943,\n",
              " 'ring': 944,\n",
              " 'suffer': 945,\n",
              " 'foot': 946,\n",
              " 'spent': 947,\n",
              " 'travel': 948,\n",
              " 'handle': 949,\n",
              " 'us': 950,\n",
              " 'location': 951,\n",
              " 'prison': 952,\n",
              " 'effective': 953,\n",
              " 'ability': 954,\n",
              " 'discover': 955,\n",
              " 'suggest': 956,\n",
              " 'meaning': 957,\n",
              " 'share': 958,\n",
              " 'suit': 959,\n",
              " 'disappoint': 960,\n",
              " 'taste': 961,\n",
              " 'grade': 962,\n",
              " 'van': 963,\n",
              " 'teen': 964,\n",
              " 'camp': 965,\n",
              " 'familiar': 966,\n",
              " 'fashion': 967,\n",
              " 'language': 968,\n",
              " 'pure': 969,\n",
              " 'critic': 970,\n",
              " 'successful': 971,\n",
              " 'insult': 972,\n",
              " 'detective': 973,\n",
              " 'ride': 974,\n",
              " 'inspire': 975,\n",
              " 'solid': 976,\n",
              " 'trash': 977,\n",
              " 'torture': 978,\n",
              " 'raise': 979,\n",
              " 'fake': 980,\n",
              " 'neither': 981,\n",
              " 'ultimately': 982,\n",
              " 'master': 983,\n",
              " 'common': 984,\n",
              " 'slasher': 985,\n",
              " 'pointless': 986,\n",
              " 'haunt': 987,\n",
              " 'drag': 988,\n",
              " 'basic': 989,\n",
              " 'record': 990,\n",
              " 'werent': 991,\n",
              " 'search': 992,\n",
              " 'claim': 993,\n",
              " 'cult': 994,\n",
              " 'blue': 995,\n",
              " 'disturb': 996,\n",
              " 'tough': 997,\n",
              " 'door': 998,\n",
              " 'anti': 999,\n",
              " 'literally': 1000,\n",
              " ...}"
            ]
          },
          "metadata": {
            "tags": []
          },
          "execution_count": 25
        }
      ]
    },
    {
      "cell_type": "code",
      "metadata": {
        "colab": {
          "base_uri": "https://localhost:8080/"
        },
        "id": "XdJnCKnqbr8D",
        "outputId": "e4545b6f-f96d-4d44-a516-3c10a75d456b"
      },
      "source": [
        "sequences = np.array(sequences)\r\n",
        "\r\n",
        "train_X, test_X =sequences[:len(X_train)], sequences[len(X_train):]\r\n",
        "\r\n",
        "print(train_X.shape,test_X.shape)"
      ],
      "execution_count": 26,
      "outputs": [
        {
          "output_type": "stream",
          "text": [
            "(25000,) (25000,)\n"
          ],
          "name": "stdout"
        },
        {
          "output_type": "stream",
          "text": [
            "/usr/local/lib/python3.6/dist-packages/ipykernel_launcher.py:1: VisibleDeprecationWarning: Creating an ndarray from ragged nested sequences (which is a list-or-tuple of lists-or-tuples-or ndarrays with different lengths or shapes) is deprecated. If you meant to do this, you must specify 'dtype=object' when creating the ndarray\n",
            "  \"\"\"Entry point for launching an IPython kernel.\n"
          ],
          "name": "stderr"
        }
      ]
    },
    {
      "cell_type": "code",
      "metadata": {
        "colab": {
          "base_uri": "https://localhost:8080/"
        },
        "id": "vIrT-tLVcDHF",
        "outputId": "fac2be64-f3ff-4770-e497-1bbb460fde8b"
      },
      "source": [
        "max_len = 300\r\n",
        "#transforms a list (of length num_samples) of sequences (lists of integers) \r\n",
        "#into a 2D Numpy array of shape (num_samples, num_timesteps) num_timesteps is the maxlen argument.\r\n",
        "train_X_pad = pad_sequences(train_X, maxlen=max_len)\r\n",
        "test_X_pad = pad_sequences(test_X, maxlen=max_len)\r\n",
        "print(train_X_pad.shape)\r\n",
        "print(test_X_pad.shape)"
      ],
      "execution_count": 27,
      "outputs": [
        {
          "output_type": "stream",
          "text": [
            "(25000, 300)\n",
            "(25000, 300)\n"
          ],
          "name": "stdout"
        }
      ]
    },
    {
      "cell_type": "code",
      "metadata": {
        "colab": {
          "base_uri": "https://localhost:8080/"
        },
        "id": "ePr2jCrrefK6",
        "outputId": "cc77cba0-13c3-4108-dabc-4362f4f1e790"
      },
      "source": [
        "train_X_pad[0]"
      ],
      "execution_count": 28,
      "outputs": [
        {
          "output_type": "execute_result",
          "data": {
            "text/plain": [
              "array([    0,     0,     0,     0,     0,     0,     0,     0,     0,\n",
              "           0,     0,     0,     0,     0,     0,     0,     0,     0,\n",
              "           0,     0,     0,     0,     0,     0,     0,     0,     0,\n",
              "           0,     0,     0,     0,     0,     0,     0,     0,     0,\n",
              "           0,     0,     0,     0,     0,     0,     0,     0,     0,\n",
              "           0,     0,     0,     0,     0,     0,     0,     0,     0,\n",
              "           0,     0,     0,     0,     0,     0,     0,     0,     0,\n",
              "           0,     0,     0,     0,     0,     0,     0,     0,     0,\n",
              "           0,     0,     0,     0,     0,     0,     0,     0,     0,\n",
              "           0,     0,     0,     0,     0,     0,     0,     0,     0,\n",
              "           0,     0,     0,     0,     0,     0,     0,     0,     0,\n",
              "           0,     0,     0,     0,     0,     0,     0,     0,     0,\n",
              "           0,     0,     0,     0,     0,     0,     0,     0,     0,\n",
              "           0,     0,     0,     0,     0,     0,     0,     0,     0,\n",
              "           0,     0,     0,     0,     0,     0,     0,     0,     0,\n",
              "           0,     0,     0,     0,     0,     0,     0,     0,     0,\n",
              "           0,     0,     0,     0,     0,     0,     0,     0,     0,\n",
              "           0,     0,     0,     0,     0,     0,     0,     0,     0,\n",
              "           0,     0,     0,     0,     0,     0,     0,     0,     0,\n",
              "           0,     0,     0,     0,     0,     0,     0,     0,     0,\n",
              "           0,     0,     0,     0,     0,     0,     0,     0,     0,\n",
              "           0,     0,     0,     0,     0,     0,     0,     0,     0,\n",
              "           0,     0,     0,     0,     0,     0,     0,     0,     0,\n",
              "           0,     0,     0,     0,   929,   156,    35,   381,   919,\n",
              "        2758,    67,   177,   683,    50,   454,  9349,   366,    21,\n",
              "          45,    91,    50,    14, 18894,   172,   159,    91,  4059,\n",
              "         811,     2,   441,   358,   113,  1649,     3,  1496,  4517,\n",
              "         394,     8,   965,     2,   439,     2,   508, 13456,    16,\n",
              "         302,     7,    12,   697,  2853,   366,  1455,   524,   970,\n",
              "         126,     4,  8811,     7,   785,   177, 24754,     1,    21,\n",
              "         720,   382,   160,   232,     1,  2032,   869,    43,   190,\n",
              "         209,  1701,   103,  5238,   114,   382,   366,    66,  4939,\n",
              "           4,   120,    43,   114,  1073,   204,  1137,    36,    13,\n",
              "        4733,     3,    49], dtype=int32)"
            ]
          },
          "metadata": {
            "tags": []
          },
          "execution_count": 28
        }
      ]
    },
    {
      "cell_type": "code",
      "metadata": {
        "colab": {
          "base_uri": "https://localhost:8080/"
        },
        "id": "GoBnpLt3fiee",
        "outputId": "cb50d3fe-ccde-4610-ae22-86156595c500"
      },
      "source": [
        "#We need to know the size of the vocabulary for defining the embedding layer.\r\n",
        "vocab_size = len(tokenizer.word_index) + 1\r\n",
        "vocab_size"
      ],
      "execution_count": 29,
      "outputs": [
        {
          "output_type": "execute_result",
          "data": {
            "text/plain": [
              "64676"
            ]
          },
          "metadata": {
            "tags": []
          },
          "execution_count": 29
        }
      ]
    },
    {
      "cell_type": "code",
      "metadata": {
        "colab": {
          "base_uri": "https://localhost:8080/"
        },
        "id": "xWcgTkVVfrBz",
        "outputId": "5f9b1c86-16a5-4fad-ae89-8acd6029015a"
      },
      "source": [
        "def generate_model(vocab_size, max_len, embedding_size):\r\n",
        "\r\n",
        "  _input = Input(max_len)\r\n",
        "  x = Embedding(input_dim = vocab_size, output_dim = embedding_size, input_length=max_len) (_input)\r\n",
        "  x_lstm = GRU(20)(x)\r\n",
        "  x_dropout = Dropout(rate=0.2)(x_lstm)\r\n",
        "  output = Dense(1, activation='sigmoid')(x_dropout)\r\n",
        "  model = Model(inputs= [_input], outputs = [output])\r\n",
        "  model.compile(loss='binary_crossentropy', optimizer='adam', metrics=['accuracy'])\r\n",
        "  return model\r\n",
        "  \r\n",
        "model_1 = generate_model(vocab_size, max_len, embedding_size=500)\r\n",
        "model_1.summary()\r\n",
        "\r\n",
        "history_1 = model_1.fit(train_X_pad, trainY, epochs=10, batch_size=60)"
      ],
      "execution_count": 30,
      "outputs": [
        {
          "output_type": "stream",
          "text": [
            "Model: \"model\"\n",
            "_________________________________________________________________\n",
            "Layer (type)                 Output Shape              Param #   \n",
            "=================================================================\n",
            "input_1 (InputLayer)         [(None, 300)]             0         \n",
            "_________________________________________________________________\n",
            "embedding (Embedding)        (None, 300, 500)          32338000  \n",
            "_________________________________________________________________\n",
            "gru (GRU)                    (None, 20)                31320     \n",
            "_________________________________________________________________\n",
            "dropout (Dropout)            (None, 20)                0         \n",
            "_________________________________________________________________\n",
            "dense (Dense)                (None, 1)                 21        \n",
            "=================================================================\n",
            "Total params: 32,369,341\n",
            "Trainable params: 32,369,341\n",
            "Non-trainable params: 0\n",
            "_________________________________________________________________\n",
            "Epoch 1/10\n",
            "417/417 [==============================] - 142s 323ms/step - loss: 0.5430 - accuracy: 0.7114\n",
            "Epoch 2/10\n",
            "417/417 [==============================] - 134s 321ms/step - loss: 0.2311 - accuracy: 0.9157\n",
            "Epoch 3/10\n",
            "417/417 [==============================] - 134s 321ms/step - loss: 0.1151 - accuracy: 0.9633\n",
            "Epoch 4/10\n",
            "417/417 [==============================] - 134s 321ms/step - loss: 0.0641 - accuracy: 0.9809\n",
            "Epoch 5/10\n",
            "417/417 [==============================] - 132s 317ms/step - loss: 0.0348 - accuracy: 0.9891\n",
            "Epoch 6/10\n",
            "417/417 [==============================] - 131s 314ms/step - loss: 0.0200 - accuracy: 0.9951\n",
            "Epoch 7/10\n",
            "417/417 [==============================] - 131s 315ms/step - loss: 0.0084 - accuracy: 0.9979\n",
            "Epoch 8/10\n",
            "417/417 [==============================] - 133s 318ms/step - loss: 0.0078 - accuracy: 0.9982\n",
            "Epoch 9/10\n",
            "417/417 [==============================] - 132s 316ms/step - loss: 0.0121 - accuracy: 0.9966\n",
            "Epoch 10/10\n",
            "417/417 [==============================] - 132s 317ms/step - loss: 0.0072 - accuracy: 0.9979\n"
          ],
          "name": "stdout"
        }
      ]
    },
    {
      "cell_type": "code",
      "metadata": {
        "colab": {
          "base_uri": "https://localhost:8080/"
        },
        "id": "4ecf0fxoh11F",
        "outputId": "680ca58c-a058-4024-b855-43f61d0015c1"
      },
      "source": [
        "pred_test_embed = model_1.predict(test_X_pad)\r\n",
        "#pred_test = np.argmax(pred_test,axis=1)\r\n",
        "pred_test_embed = pred_test_embed.round()\r\n",
        "\r\n",
        "#print evaluation metrics \r\n",
        "print(classification_report(testY, pred_test_embed))\r\n",
        "print(confusion_matrix(testY, pred_test_embed))\r\n",
        "print(\"Accuracy:\", np.round(accuracy_score(testY, pred_test_embed),2))"
      ],
      "execution_count": 31,
      "outputs": [
        {
          "output_type": "stream",
          "text": [
            "              precision    recall  f1-score   support\n",
            "\n",
            "           0       0.82      0.82      0.82     12500\n",
            "           1       0.82      0.82      0.82     12500\n",
            "\n",
            "    accuracy                           0.82     25000\n",
            "   macro avg       0.82      0.82      0.82     25000\n",
            "weighted avg       0.82      0.82      0.82     25000\n",
            "\n",
            "[[10231  2269]\n",
            " [ 2224 10276]]\n",
            "Accuracy: 0.82\n"
          ],
          "name": "stdout"
        }
      ]
    },
    {
      "cell_type": "markdown",
      "metadata": {
        "id": "WGPd-uvn_GKG"
      },
      "source": [
        "# Create a report/table for the experimental results. \n",
        "\n",
        "  - The table should contain accuracy, f1-score, precision and recall for each of the 6 models\n",
        "  - Write few sentences about which model performed the best in your opinion (and why)."
      ]
    },
    {
      "cell_type": "code",
      "metadata": {
        "id": "eL-F-I5C_We_"
      },
      "source": [
        ""
      ],
      "execution_count": null,
      "outputs": []
    },
    {
      "cell_type": "code",
      "metadata": {
        "id": "1MuF4rohANU0"
      },
      "source": [
        ""
      ],
      "execution_count": null,
      "outputs": []
    },
    {
      "cell_type": "markdown",
      "metadata": {
        "id": "OuhjoIRuAVbi"
      },
      "source": [
        "## Use the model on unseen data\n",
        "\n",
        "  - Find 3 english reviews (for which it is clear whether they are Good or Bad) from your favourite movie on IMDB\n",
        "  - Use the best model to classify them"
      ]
    },
    {
      "cell_type": "code",
      "metadata": {
        "id": "UjjkrOi_ArUw"
      },
      "source": [
        ""
      ],
      "execution_count": null,
      "outputs": []
    }
  ]
}